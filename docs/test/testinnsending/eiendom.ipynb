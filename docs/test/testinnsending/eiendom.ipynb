{
 "cells": [
  {
   "cell_type": "code",
   "execution_count": 5,
   "id": "initial_id",
   "metadata": {
    "collapsed": true
   },
   "outputs": [],
   "source": [
    "from skatteetaten_api import get_access_token\n",
    "import requests"
   ]
  },
  {
   "cell_type": "code",
   "execution_count": null,
   "id": "44b52835aea2a926",
   "metadata": {
    "collapsed": false
   },
   "outputs": [],
   "source": [
    "skatteetaten_url = \"https://idporten-api-sbstest.sits.no\"\n",
    "idporten_header = get_access_token()"
   ]
  },
  {
   "cell_type": "code",
   "execution_count": 3,
   "id": "88984d567353a503",
   "metadata": {
    "collapsed": false
   },
   "outputs": [],
   "source": [
    "sergId = 1\n",
    "fnr = \"06891548603\"\n",
    "inntekstår = \"2023\"\n",
    "url_eiendomssoek = skatteetaten_url + f\"/api/skattemelding/v2/eiendom/soek/{inntekstår}?query=Sagemoveien\"\n",
    "url_formuesgrunnlag= skatteetaten_url + f\"/api/skattemelding/v2/eiendom/formuesgrunnlag/2022/{sergId}/{fnr}\"\n",
    "\n",
    "soek_eiendom_request = requests.get(url_eiendomssoek, headers=idporten_header).json()\n",
    "hent_formuesgrunnlag = requests.get(url_formuesgrunnlag, headers=idporten_header).json()"
   ]
  },
  {
   "cell_type": "code",
   "execution_count": null,
   "id": "f0c5d311672486e6",
   "metadata": {
    "collapsed": false
   },
   "outputs": [],
   "source": [
    "print(\"Result of property search:\", soek_eiendom_request)\n",
    "print(\"Result of wealth basis fetch:\", hent_formuesgrunnlag)"
   ]
  },
  {
   "cell_type": "code",
   "execution_count": null,
   "metadata": {},
   "outputs": [],
   "source": []
  }
 ],
 "metadata": {
  "kernelspec": {
   "display_name": "skattemelding",
   "language": "python",
   "name": "python3"
  },
  "language_info": {
   "codemirror_mode": {
    "name": "ipython",
    "version": 3
   },
   "file_extension": ".py",
   "mimetype": "text/x-python",
   "name": "python",
   "nbconvert_exporter": "python",
   "pygments_lexer": "ipython3",
   "version": "3.12.7"
  }
 },
 "nbformat": 4,
 "nbformat_minor": 5
}
